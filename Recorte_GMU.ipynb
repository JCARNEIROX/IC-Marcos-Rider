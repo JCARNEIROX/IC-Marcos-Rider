{
  "cells": [
    {
      "cell_type": "markdown",
      "metadata": {
        "id": "view-in-github",
        "colab_type": "text"
      },
      "source": [
        "<a href=\"https://colab.research.google.com/github/JCARNEIROX/IC-Marcos-Rider/blob/main/Recorte_GMU.ipynb\" target=\"_parent\"><img src=\"https://colab.research.google.com/assets/colab-badge.svg\" alt=\"Open In Colab\"/></a>"
      ]
    },
    {
      "cell_type": "markdown",
      "metadata": {
        "id": "4e7lQdx34S3v"
      },
      "source": [
        "Script Pyhton para Recorte da Area de interesse do GMU que será estudado\n"
      ]
    },
    {
      "cell_type": "code",
      "execution_count": null,
      "metadata": {
        "id": "2bqfgpakIp5k"
      },
      "outputs": [],
      "source": [
        "# Required libs\n",
        "import sys\n",
        "sys.path.insert(1, 'G:\\Meu Drive\\Faculdade\\IC-Rider\\Python\\IC-Marcos-Rider\\GOES\\libs\\\\')\n",
        "from libs.utilities import area_para_recorte,adicionando_shapefile,adicionando_linhas\n",
        "import matplotlib\n",
        "matplotlib.use('TkAgg')\n",
        "import matplotlib.pyplot as plt  # Plotagem de resultados, textos, logos, etc.\n",
        "from matplotlib import cm  # Utilitario para paletas de cores\n",
        "from matplotlib.image import imread\n",
        "import cartopy  # Inserir mapas, shapefiles, paralelos, meridianos, latitudes, longitudes, etc.\n",
        "import cartopy.crs as ccrs  # Utilitario para sistemas de referência e coordenadas\n",
        "import cartopy.io.shapereader as shpreader  # Utilitario para leitura de shapefiles\n",
        "import cartopy.feature as cfeature # features\n",
        "from osgeo import gdal  # Utilitario para a biblioteca GDAL\n",
        "from osgeo import osr  # Utilitario para a biblioteca GDAL\n",
        "from netCDF4 import Dataset  # Utilitario para a biblioteca NetCDF4\n",
        "import numpy as np  # Suporte para arrays e matrizes multidimensionais, com diversas funções matemáticas para trabalhar com estas estruturas\n",
        "from libs.utilities import remap\n",
        "from shapely.geometry import Point\n"
      ]
    },
    {
      "cell_type": "code",
      "execution_count": null,
      "metadata": {
        "id": "Kje_EPRuIp5l",
        "outputId": "ad943576-0522-49d0-bed1-e78e0a37af36"
      },
      "outputs": [
        {
          "name": "stdout",
          "output_type": "stream",
          "text": [
            "[-47.3, -22.7, -46.8, -23.1]\n"
          ]
        }
      ],
      "source": [
        "#======================================================================================================\n",
        "# Input and output directories\n",
        "## Criar diretorio dir_in band02, dmw\n",
        "dir_in = \"G:\\Meu Drive\\Minhas_coisas\\Faculdade\\ProjetoSAE\\GOES\\clone_dir_servidor\\goes\\\\\"\n",
        "#Criar diretorio Scripts >> output,shapefiles,colortables,logos\n",
        "dir_main = \"G:\\Meu Drive\\Faculdade\\ProjetoSAE\\GOES\\clone_dir_servidor\\Scripts\\goes\\shapefiles\\\\\"\n",
        "dir_out = dir_main + \"output\\\\\"\n",
        "dir_libs = dir_main + \"libs\\\\\"\n",
        "dir_shapefiles = \"G:\\Meu Drive\\Faculdade\\IC-Rider\\Python\\IC-Marcos-Rider\\GOES\\libs\\shapefiles\\\\\"\n",
        "dir_colortables = dir_main + \"colortables\\\\\"\n",
        "dir_logos = dir_main + \"logos\\\\\"\n",
        "\n",
        "extent = area_para_recorte('camp')[0]\n",
        "print(extent)"
      ]
    },
    {
      "cell_type": "markdown",
      "metadata": {
        "id": "i-2DpUbVIp5m"
      },
      "source": [
        "Trecho Util para ler o que tem dentro dos shapefiles\n"
      ]
    },
    {
      "cell_type": "code",
      "execution_count": null,
      "metadata": {
        "id": "Ld3U5Wg-Ip5m",
        "outputId": "fea71b8d-d390-44e0-9121-ebe5f3936387"
      },
      "outputs": [
        {
          "name": "stdout",
          "output_type": "stream",
          "text": [
            "31\n"
          ]
        }
      ],
      "source": [
        "micro_regioes = list(shpreader.Reader(dir_shapefiles + 'SP_Microrregioes_2022\\\\SP_Microrregioes_2022.shp').records())\n",
        "micro_camp = micro_regioes[31]\n",
        "# for i in range(len(micro_regioes)):\n",
        "#     if micro_regioes[i].attributes['NM_MICRO']== 'Campinas':\n",
        "#         print(i)"
      ]
    },
    {
      "cell_type": "code",
      "execution_count": null,
      "metadata": {
        "id": "AU8sQ4uZIp5n"
      },
      "outputs": [],
      "source": [
        "# Definindo tamanho da imagem de saida\n",
        "d_p_i = 150\n",
        "fig = plt.figure(figsize=(2000 / float(d_p_i), 2000 / float(d_p_i)), frameon=True, dpi=d_p_i, edgecolor='black', facecolor='black')\n",
        "\n",
        "# Utilizando projecao geoestacionaria no cartopy\n",
        "ax = plt.axes(projection=ccrs.PlateCarree())\n",
        "\n",
        "ax.set_extent([extent[0], extent[2], extent[1], extent[3]], ccrs.PlateCarree())\n",
        "\n",
        "# Adicionando o shapefile dos estados brasileiros\n",
        "# dir_shapefile = \"G:\\Meu Drive\\Faculdade\\ProjetoSAE\\GOES\\clone_dir_servidor\\Scripts\\goes\\shapefiles\\\\\"\n",
        "brasil = shpreader.Reader(dir_shapefiles + 'brasil\\\\BR_UF_2020.shp').geometries()\n",
        "ax.add_geometries(brasil, ccrs.PlateCarree(), edgecolor='black', facecolor='none', linewidth=0.7, zorder=8)\n",
        "#shapefile de campinas\n",
        "# campinas = list(shpreader.Reader(dir_shapefiles + 'campinas\\\\campinas.shp').geometries())\n",
        "micro_regioes = list(shpreader.Reader(dir_shapefiles + 'SP_Microrregioes_2022\\\\SP_Microrregioes_2022.shp').geometries())\n",
        "micro_camp = micro_regioes[31]\n",
        "ax.add_geometries(micro_camp, ccrs.PlateCarree(), edgecolor='red', facecolor='none', linewidth=1, zorder=8)\n",
        "\n",
        "municipios_sp = list(shpreader.Reader(dir_shapefiles + 'brasil\\\\SP_Municipios_2022.shp').geometries())\n",
        "campinas = municipios_sp[108]\n",
        "ax.add_geometries(campinas, ccrs.PlateCarree(), edgecolor='cyan', facecolor='none', linewidth=1, zorder=8)\n",
        "\n",
        "#Plotndo a localização do GMU\n",
        "ax.plot(-47.070952,-22.81466,'r+',transform=ccrs.PlateCarree())\n",
        "\n",
        "plt.show()"
      ]
    }
  ],
  "metadata": {
    "colab": {
      "provenance": [],
      "toc_visible": true,
      "include_colab_link": true
    },
    "kernelspec": {
      "display_name": "Python 3",
      "name": "python3"
    },
    "language_info": {
      "codemirror_mode": {
        "name": "ipython",
        "version": 3
      },
      "file_extension": ".py",
      "mimetype": "text/x-python",
      "name": "python",
      "nbconvert_exporter": "python",
      "pygments_lexer": "ipython3",
      "version": "3.10.8"
    }
  },
  "nbformat": 4,
  "nbformat_minor": 0
}